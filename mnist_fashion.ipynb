{
 "cells": [
  {
   "cell_type": "code",
   "execution_count": 2,
   "id": "04067f63",
   "metadata": {},
   "outputs": [],
   "source": [
    "import torch\n",
    "from torch import nn\n",
    "from torch.utils.data import DataLoader\n",
    "from torchvision import datasets\n",
    "from torchvision.transforms import ToTensor\n"
   ]
  },
  {
   "cell_type": "code",
   "execution_count": 3,
   "id": "fc94ccb2",
   "metadata": {},
   "outputs": [],
   "source": [
    "#훈련 데이터셋 로드\n",
    "training_data=datasets.FashionMNIST(\n",
    "    root=\"data\",\n",
    "    train=True,\n",
    "    download=True,\n",
    "    transform=ToTensor(),\n",
    ")"
   ]
  },
  {
   "cell_type": "code",
   "execution_count": 4,
   "id": "3e06a741",
   "metadata": {},
   "outputs": [],
   "source": [
    "#테스트 데이터셋 로드\n",
    "test_data=datasets.FashionMNIST(\n",
    "    root=\"data\",\n",
    "    train=False,\n",
    "    download=True,\n",
    "    transform=ToTensor(),\n",
    ")"
   ]
  },
  {
   "cell_type": "code",
   "execution_count": 5,
   "id": "b0de103b",
   "metadata": {},
   "outputs": [],
   "source": [
    "batch_size=64\n",
    "\n",
    "train_dataloader= DataLoader(training_data, batch_size=batch_size)\n",
    "test_dataloader= DataLoader(test_data, batch_size=batch_size)\n"
   ]
  },
  {
   "cell_type": "code",
   "execution_count": 6,
   "id": "87c8a918",
   "metadata": {},
   "outputs": [
    {
     "name": "stdout",
     "output_type": "stream",
     "text": [
      "Shape of X [N, C, H, W]: torch.Size([64, 1, 28, 28])\n",
      "Shape of y:torch.Size([64]), Type is 'torch.int64'\n"
     ]
    }
   ],
   "source": [
    "for X, y in test_dataloader:\n",
    "    print(f\"Shape of X [N, C, H, W]: {X.shape}\")\n",
    "    print(f\"Shape of y:{y.shape}, Type is '{y.dtype}'\")\n",
    "    break"
   ]
  },
  {
   "cell_type": "code",
   "execution_count": 7,
   "id": "f6a0074f",
   "metadata": {},
   "outputs": [
    {
     "name": "stdout",
     "output_type": "stream",
     "text": [
      "Using cuda:1 device\n"
     ]
    }
   ],
   "source": [
    "import torch\n",
    "\n",
    "gpu_id = 1  # 0 또는 1 등으로 바꿔도 돼\n",
    "\n",
    "device = (\n",
    "    torch.device(f\"cuda:{gpu_id}\") if torch.cuda.is_available()\n",
    "    else torch.device(\"mps\") if torch.backends.mps.is_available()\n",
    "    else torch.device(\"cpu\")\n",
    ")\n",
    "\n",
    "print(f\"Using {device} device\")\n"
   ]
  },
  {
   "cell_type": "markdown",
   "id": "363a7070",
   "metadata": {},
   "source": [
    "## 모델 정의"
   ]
  },
  {
   "cell_type": "code",
   "execution_count": 8,
   "id": "add4e4af",
   "metadata": {},
   "outputs": [
    {
     "name": "stdout",
     "output_type": "stream",
     "text": [
      "NeuralNetwork(\n",
      "  (flatten): Flatten(start_dim=1, end_dim=-1)\n",
      "  (linear_relu_stack): Sequential(\n",
      "    (0): Linear(in_features=784, out_features=512, bias=True)\n",
      "    (1): ReLU()\n",
      "    (2): Linear(in_features=512, out_features=512, bias=True)\n",
      "    (3): ReLU()\n",
      "    (4): Linear(in_features=512, out_features=10, bias=True)\n",
      "  )\n",
      ")\n"
     ]
    }
   ],
   "source": [
    "class NeuralNetwork(nn.Module):\n",
    "    def __init__(self, *args, **kwargs) -> None:\n",
    "        super().__init__(*args, **kwargs)\n",
    "        \n",
    "        self.flatten=nn.Flatten()\n",
    "        \n",
    "        self.linear_relu_stack=nn.Sequential(\n",
    "            nn.Linear(28*28, 512),\n",
    "            nn.ReLU(),\n",
    "            nn.Linear(512,512),\n",
    "            nn.ReLU(),\n",
    "            nn.Linear(512,10)\n",
    "        )\n",
    "    \n",
    "    def forward(self, x):\n",
    "        x = self.flatten(x)\n",
    "        logits = self.linear_relu_stack(x)\n",
    "        return logits\n",
    "\n",
    "model = NeuralNetwork().to(device=device)\n",
    "print(model)"
   ]
  },
  {
   "cell_type": "markdown",
   "id": "adaa0914",
   "metadata": {},
   "source": [
    "## 모델학습 정의"
   ]
  },
  {
   "cell_type": "code",
   "execution_count": 9,
   "id": "f8a8f16a",
   "metadata": {},
   "outputs": [],
   "source": [
    "loss_func = nn.CrossEntropyLoss()\n",
    "optimizer = torch.optim.SGD(model.parameters(), lr=1e-3)"
   ]
  },
  {
   "cell_type": "code",
   "execution_count": 10,
   "id": "d8112926",
   "metadata": {},
   "outputs": [],
   "source": [
    "def train(dataloader, model, loss_func, optimizer):\n",
    "    size = len(dataloader.dataset)\n",
    "    for batch, (X, y) in enumerate(dataloader):\n",
    "        X, y = X.to(device), y.to(device)\n",
    "        \n",
    "        #오차 계산\n",
    "        pred=model(X)\n",
    "        loss=loss_func(pred, y)\n",
    "        \n",
    "        #Back-propagation\n",
    "        loss.backward()\n",
    "        optimizer.step()\n",
    "        optimizer.zero_grad()\n",
    "        \n",
    "        if batch % 100 == 0:\n",
    "            loss, current = loss.item(), (batch+1)*len(X)\n",
    "            print(f\"los: {loss:>7f} [{current:>5d}/{size:5>5d}]\")"
   ]
  },
  {
   "cell_type": "code",
   "execution_count": 11,
   "id": "d2e9a425",
   "metadata": {},
   "outputs": [],
   "source": [
    "def test(dataloader, model, loss_func):\n",
    "    size = len(dataloader.dataset)\n",
    "    num_batches =len(dataloader)\n",
    "    model.eval()\n",
    "    test_loss, correct = 0, 0\n",
    "    \n",
    "    with torch.no_grad():\n",
    "        for X, y in dataloader:\n",
    "            X, y = X.to(device), y.to(device)\n",
    "            pred=model(X)\n",
    "            test_loss += loss_func(pred, y).item()\n",
    "            correct += (pred.argmax(1) == y).type(torch.float).sum().item()\n",
    "            \n",
    "    test_loss /= num_batches\n",
    "    correct /= size\n",
    "    print(f\"Test Error: \\n Accuracy: {100*correct:>0.1f}%, Avg Loss: {test_loss:>8f} \\n\")"
   ]
  },
  {
   "cell_type": "markdown",
   "id": "05748f27",
   "metadata": {},
   "source": [
    "## 모델 학습시키기"
   ]
  },
  {
   "cell_type": "code",
   "execution_count": 12,
   "id": "fe194ffe",
   "metadata": {},
   "outputs": [
    {
     "name": "stdout",
     "output_type": "stream",
     "text": [
      "Epoch: 1\n",
      "---------------------------------------\n",
      "los: 2.298837 [   64/60000]\n",
      "los: 2.286325 [ 6464/60000]\n",
      "los: 2.272744 [12864/60000]\n",
      "los: 2.276958 [19264/60000]\n",
      "los: 2.253979 [25664/60000]\n",
      "los: 2.228571 [32064/60000]\n",
      "los: 2.242194 [38464/60000]\n",
      "los: 2.201168 [44864/60000]\n",
      "los: 2.201428 [51264/60000]\n",
      "los: 2.183203 [57664/60000]\n",
      "Test Error: \n",
      " Accuracy: 40.8%, Avg Loss: 2.168992 \n",
      "\n",
      "Epoch: 2\n",
      "---------------------------------------\n",
      "los: 2.175580 [   64/60000]\n",
      "los: 2.162346 [ 6464/60000]\n",
      "los: 2.112620 [12864/60000]\n",
      "los: 2.138907 [19264/60000]\n",
      "los: 2.086221 [25664/60000]\n",
      "los: 2.027897 [32064/60000]\n",
      "los: 2.066167 [38464/60000]\n",
      "los: 1.978501 [44864/60000]\n",
      "los: 1.988814 [51264/60000]\n",
      "los: 1.932276 [57664/60000]\n",
      "Test Error: \n",
      " Accuracy: 55.5%, Avg Loss: 1.916893 \n",
      "\n",
      "Epoch: 3\n",
      "---------------------------------------\n",
      "los: 1.944908 [   64/60000]\n",
      "los: 1.912656 [ 6464/60000]\n",
      "los: 1.797997 [12864/60000]\n",
      "los: 1.853505 [19264/60000]\n",
      "los: 1.745606 [25664/60000]\n",
      "los: 1.684580 [32064/60000]\n",
      "los: 1.720612 [38464/60000]\n",
      "los: 1.599506 [44864/60000]\n",
      "los: 1.632788 [51264/60000]\n",
      "los: 1.538929 [57664/60000]\n",
      "Test Error: \n",
      " Accuracy: 61.7%, Avg Loss: 1.541401 \n",
      "\n",
      "Epoch: 4\n",
      "---------------------------------------\n",
      "los: 1.604416 [   64/60000]\n",
      "los: 1.565073 [ 6464/60000]\n",
      "los: 1.407395 [12864/60000]\n",
      "los: 1.496294 [19264/60000]\n",
      "los: 1.382564 [25664/60000]\n",
      "los: 1.359457 [32064/60000]\n",
      "los: 1.389428 [38464/60000]\n",
      "los: 1.286448 [44864/60000]\n",
      "los: 1.330083 [51264/60000]\n",
      "los: 1.242197 [57664/60000]\n",
      "Test Error: \n",
      " Accuracy: 63.9%, Avg Loss: 1.257339 \n",
      "\n",
      "Epoch: 5\n",
      "---------------------------------------\n",
      "los: 1.331768 [   64/60000]\n",
      "los: 1.312509 [ 6464/60000]\n",
      "los: 1.136564 [12864/60000]\n",
      "los: 1.258553 [19264/60000]\n",
      "los: 1.143615 [25664/60000]\n",
      "los: 1.152690 [32064/60000]\n",
      "los: 1.186780 [38464/60000]\n",
      "los: 1.097238 [44864/60000]\n",
      "los: 1.142791 [51264/60000]\n",
      "los: 1.073013 [57664/60000]\n",
      "Test Error: \n",
      " Accuracy: 65.0%, Avg Loss: 1.084976 \n",
      "\n",
      "Epoch: 6\n",
      "---------------------------------------\n",
      "los: 1.151579 [   64/60000]\n",
      "los: 1.156591 [ 6464/60000]\n",
      "los: 0.964055 [12864/60000]\n",
      "los: 1.112808 [19264/60000]\n",
      "los: 0.999466 [25664/60000]\n",
      "los: 1.017369 [32064/60000]\n",
      "los: 1.063654 [38464/60000]\n",
      "los: 0.980734 [44864/60000]\n",
      "los: 1.026072 [51264/60000]\n",
      "los: 0.968551 [57664/60000]\n",
      "Test Error: \n",
      " Accuracy: 65.9%, Avg Loss: 0.976715 \n",
      "\n",
      "Epoch: 7\n",
      "---------------------------------------\n",
      "los: 1.031218 [   64/60000]\n",
      "los: 1.058631 [ 6464/60000]\n",
      "los: 0.850135 [12864/60000]\n",
      "los: 1.017255 [19264/60000]\n",
      "los: 0.911283 [25664/60000]\n",
      "los: 0.923576 [32064/60000]\n",
      "los: 0.984044 [38464/60000]\n",
      "los: 0.907212 [44864/60000]\n",
      "los: 0.948588 [51264/60000]\n",
      "los: 0.899504 [57664/60000]\n",
      "Test Error: \n",
      " Accuracy: 67.1%, Avg Loss: 0.904500 \n",
      "\n",
      "Epoch: 8\n",
      "---------------------------------------\n",
      "los: 0.945137 [   64/60000]\n",
      "los: 0.992320 [ 6464/60000]\n",
      "los: 0.770505 [12864/60000]\n",
      "los: 0.950745 [19264/60000]\n",
      "los: 0.853563 [25664/60000]\n",
      "los: 0.855849 [32064/60000]\n",
      "los: 0.928177 [38464/60000]\n",
      "los: 0.859057 [44864/60000]\n",
      "los: 0.894399 [51264/60000]\n",
      "los: 0.850335 [57664/60000]\n",
      "Test Error: \n",
      " Accuracy: 68.2%, Avg Loss: 0.853391 \n",
      "\n",
      "Epoch: 9\n",
      "---------------------------------------\n",
      "los: 0.880183 [   64/60000]\n",
      "los: 0.943420 [ 6464/60000]\n",
      "los: 0.711776 [12864/60000]\n",
      "los: 0.902103 [19264/60000]\n",
      "los: 0.812798 [25664/60000]\n",
      "los: 0.805785 [32064/60000]\n",
      "los: 0.886414 [38464/60000]\n",
      "los: 0.826106 [44864/60000]\n",
      "los: 0.854968 [51264/60000]\n",
      "los: 0.813181 [57664/60000]\n",
      "Test Error: \n",
      " Accuracy: 69.3%, Avg Loss: 0.815209 \n",
      "\n",
      "Epoch: 10\n",
      "---------------------------------------\n",
      "los: 0.828916 [   64/60000]\n",
      "los: 0.904587 [ 6464/60000]\n",
      "los: 0.666357 [12864/60000]\n",
      "los: 0.864903 [19264/60000]\n",
      "los: 0.781791 [25664/60000]\n",
      "los: 0.767533 [32064/60000]\n",
      "los: 0.853273 [38464/60000]\n",
      "los: 0.802092 [44864/60000]\n",
      "los: 0.824712 [51264/60000]\n",
      "los: 0.783492 [57664/60000]\n",
      "Test Error: \n",
      " Accuracy: 70.4%, Avg Loss: 0.785119 \n",
      "\n",
      "Done!\n"
     ]
    }
   ],
   "source": [
    "epoch = 10\n",
    "\n",
    "for t in range(epoch):\n",
    "    print(f\"Epoch: {t+1}\\n---------------------------------------\")\n",
    "    train(train_dataloader, model, loss_func=loss_func, optimizer=optimizer)\n",
    "    test(test_dataloader, model, loss_func)\n",
    "print(\"Done!\")"
   ]
  },
  {
   "cell_type": "markdown",
   "id": "3c36e7a5",
   "metadata": {},
   "source": [
    "batch=32, epoch=10일 경우 소요시간 1분 55초 / 407mb gram 소요"
   ]
  },
  {
   "cell_type": "markdown",
   "id": "6c7efa7e",
   "metadata": {},
   "source": [
    "batch=64, epoch=10 일 경우 소요시간 1분 37초 / 409mb gram 소요"
   ]
  },
  {
   "cell_type": "markdown",
   "id": "419d8c32",
   "metadata": {},
   "source": [
    "batch=128, epoch=10 일 경우 소요시간 1분 25초 / 409mb gram 소요"
   ]
  },
  {
   "cell_type": "markdown",
   "id": "571c64f7",
   "metadata": {},
   "source": [
    "## 모델 저장하기"
   ]
  },
  {
   "cell_type": "code",
   "execution_count": 13,
   "id": "bf292223",
   "metadata": {},
   "outputs": [
    {
     "name": "stdout",
     "output_type": "stream",
     "text": [
      "Model saved...\n"
     ]
    }
   ],
   "source": [
    "torch.save(model.state_dict(), \"checkpoints/model.pth\")\n",
    "print(\"Model saved...\")"
   ]
  },
  {
   "cell_type": "markdown",
   "id": "c528aeda",
   "metadata": {},
   "source": [
    "## 모델 불러오기"
   ]
  },
  {
   "cell_type": "code",
   "execution_count": 14,
   "id": "2ffdf6c7",
   "metadata": {},
   "outputs": [
    {
     "data": {
      "text/plain": [
       "<All keys matched successfully>"
      ]
     },
     "execution_count": 14,
     "metadata": {},
     "output_type": "execute_result"
    }
   ],
   "source": [
    "model = NeuralNetwork().to(device=device)\n",
    "model.load_state_dict(torch.load(\"checkpoints/model.pth\"))"
   ]
  },
  {
   "cell_type": "markdown",
   "id": "6cfc9a41",
   "metadata": {},
   "source": [
    "## 모델 추론하기"
   ]
  },
  {
   "cell_type": "code",
   "execution_count": 15,
   "id": "4a16b739",
   "metadata": {},
   "outputs": [
    {
     "name": "stdout",
     "output_type": "stream",
     "text": [
      "Predicted: \"Trouser\", Actual: \"Trouser\"\n"
     ]
    }
   ],
   "source": [
    "classes = [\n",
    "    \"T-shirt/top\",\n",
    "    \"Trouser\",\n",
    "    \"Pullover\",\n",
    "    \"Dress\",\n",
    "    \"Coat\",\n",
    "    \"Sandal\",\n",
    "    \"Shirt\",\n",
    "    \"Sneaker\",\n",
    "    \"Bag\",\n",
    "    \"Ankle boot\",\n",
    "]\n",
    "\n",
    "model.eval()\n",
    "index = 80\n",
    "x, y = test_data[index][0], test_data[index][1]\n",
    "with torch.no_grad():\n",
    "    x = x.to(device)\n",
    "    pred = model(x)\n",
    "    predicted, actual = classes[pred[0].argmax(0)], classes[y]\n",
    "    print(f'Predicted: \"{predicted}\", Actual: \"{actual}\"')"
   ]
  },
  {
   "cell_type": "code",
   "execution_count": 16,
   "id": "0e8a9fe8",
   "metadata": {},
   "outputs": [
    {
     "data": {
      "text/plain": [
       "'\\ndef clear_gpu_memory():\\n    import gc\\n    import torch\\n\\n    globals_to_clear = [\\'model\\', \\'x\\', \\'y\\', \\'pred\\']  # 전역 네임스페이스에 등록된 이름도 삭제\\n    for name in globals_to_clear:\\n        if name in globals():\\n            globals()[name] = None\\n\\n    gc.collect()\\n    torch.cuda.empty_cache()\\n    torch.cuda.ipc_collect()\\n    print(\"🧹 GPU memory cleared!\")\\n\\nclear_gpu_memory()\\n'"
      ]
     },
     "execution_count": 16,
     "metadata": {},
     "output_type": "execute_result"
    }
   ],
   "source": [
    "\"\"\"\n",
    "def clear_gpu_memory():\n",
    "    import gc\n",
    "    import torch\n",
    "\n",
    "    globals_to_clear = ['model', 'x', 'y', 'pred']  # 전역 네임스페이스에 등록된 이름도 삭제\n",
    "    for name in globals_to_clear:\n",
    "        if name in globals():\n",
    "            globals()[name] = None\n",
    "\n",
    "    gc.collect()\n",
    "    torch.cuda.empty_cache()\n",
    "    torch.cuda.ipc_collect()\n",
    "    print(\"🧹 GPU memory cleared!\")\n",
    "\n",
    "clear_gpu_memory()\n",
    "\"\"\""
   ]
  }
 ],
 "metadata": {
  "kernelspec": {
   "display_name": "Python 3",
   "language": "python",
   "name": "python3"
  },
  "language_info": {
   "codemirror_mode": {
    "name": "ipython",
    "version": 3
   },
   "file_extension": ".py",
   "mimetype": "text/x-python",
   "name": "python",
   "nbconvert_exporter": "python",
   "pygments_lexer": "ipython3",
   "version": "3.10.12"
  }
 },
 "nbformat": 4,
 "nbformat_minor": 5
}
