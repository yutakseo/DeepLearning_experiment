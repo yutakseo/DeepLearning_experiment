{
 "cells": [
  {
   "cell_type": "code",
   "execution_count": 14,
   "id": "04067f63",
   "metadata": {},
   "outputs": [],
   "source": [
    "import torch\n",
    "from torch import nn\n",
    "from torch.utils.data import DataLoader\n",
    "from torchvision import datasets\n",
    "from torchvision.transforms import ToTensor\n"
   ]
  },
  {
   "cell_type": "code",
   "execution_count": 15,
   "id": "fc94ccb2",
   "metadata": {},
   "outputs": [],
   "source": [
    "#훈련 데이터셋 로드\n",
    "training_data=datasets.FashionMNIST(\n",
    "    root=\"../data\",\n",
    "    train=True,\n",
    "    download=True,\n",
    "    transform=ToTensor(),\n",
    ")"
   ]
  },
  {
   "cell_type": "code",
   "execution_count": 16,
   "id": "3e06a741",
   "metadata": {},
   "outputs": [],
   "source": [
    "#테스트 데이터셋 로드\n",
    "test_data=datasets.FashionMNIST(\n",
    "    root=\"../data\",\n",
    "    train=False,\n",
    "    download=True,\n",
    "    transform=ToTensor(),\n",
    ")"
   ]
  },
  {
   "cell_type": "code",
   "execution_count": 17,
   "id": "b0de103b",
   "metadata": {},
   "outputs": [],
   "source": [
    "batch_size=64\n",
    "\n",
    "train_dataloader= DataLoader(training_data, batch_size=batch_size)\n",
    "test_dataloader= DataLoader(test_data, batch_size=batch_size)\n"
   ]
  },
  {
   "cell_type": "code",
   "execution_count": 18,
   "id": "87c8a918",
   "metadata": {},
   "outputs": [
    {
     "name": "stdout",
     "output_type": "stream",
     "text": [
      "Shape of X [N, C, H, W]: torch.Size([64, 1, 28, 28])\n",
      "Shape of y:torch.Size([64]), Type is 'torch.int64'\n"
     ]
    }
   ],
   "source": [
    "for X, y in test_dataloader:\n",
    "    print(f\"Shape of X [N, C, H, W]: {X.shape}\")\n",
    "    print(f\"Shape of y:{y.shape}, Type is '{y.dtype}'\")\n",
    "    break"
   ]
  },
  {
   "cell_type": "code",
   "execution_count": 19,
   "id": "f6a0074f",
   "metadata": {},
   "outputs": [
    {
     "name": "stdout",
     "output_type": "stream",
     "text": [
      "Using cuda:1 device\n"
     ]
    }
   ],
   "source": [
    "import torch\n",
    "\n",
    "gpu_id = 1  # 0 또는 1 등으로 바꿔도 돼\n",
    "\n",
    "device = (\n",
    "    torch.device(f\"cuda:{gpu_id}\") if torch.cuda.is_available()\n",
    "    else torch.device(\"mps\") if torch.backends.mps.is_available()\n",
    "    else torch.device(\"cpu\")\n",
    ")\n",
    "\n",
    "print(f\"Using {device} device\")\n"
   ]
  },
  {
   "cell_type": "markdown",
   "id": "363a7070",
   "metadata": {},
   "source": [
    "## 모델 정의"
   ]
  },
  {
   "cell_type": "code",
   "execution_count": 20,
   "id": "add4e4af",
   "metadata": {},
   "outputs": [
    {
     "name": "stdout",
     "output_type": "stream",
     "text": [
      "NeuralNetwork(\n",
      "  (flatten): Flatten(start_dim=1, end_dim=-1)\n",
      "  (linear_relu_stack): Sequential(\n",
      "    (0): Linear(in_features=784, out_features=512, bias=True)\n",
      "    (1): ReLU()\n",
      "    (2): Linear(in_features=512, out_features=512, bias=True)\n",
      "    (3): ReLU()\n",
      "    (4): Linear(in_features=512, out_features=10, bias=True)\n",
      "  )\n",
      ")\n"
     ]
    }
   ],
   "source": [
    "class NeuralNetwork(nn.Module):\n",
    "    def __init__(self, *args, **kwargs) -> None:\n",
    "        super().__init__(*args, **kwargs)\n",
    "        \n",
    "        self.flatten=nn.Flatten()\n",
    "        \n",
    "        self.linear_relu_stack=nn.Sequential(\n",
    "            nn.Linear(28*28, 512),\n",
    "            nn.ReLU(),\n",
    "            nn.Linear(512,512),\n",
    "            nn.ReLU(),\n",
    "            nn.Linear(512,10)\n",
    "        )\n",
    "    \n",
    "    def forward(self, x):\n",
    "        x = self.flatten(x)\n",
    "        logits = self.linear_relu_stack(x)\n",
    "        return logits\n",
    "\n",
    "model = NeuralNetwork().to(device=device)\n",
    "print(model)"
   ]
  },
  {
   "cell_type": "markdown",
   "id": "adaa0914",
   "metadata": {},
   "source": [
    "## 모델학습 정의"
   ]
  },
  {
   "cell_type": "code",
   "execution_count": 21,
   "id": "f8a8f16a",
   "metadata": {},
   "outputs": [],
   "source": [
    "loss_func = nn.CrossEntropyLoss()\n",
    "optimizer = torch.optim.SGD(model.parameters(), lr=1e-3)"
   ]
  },
  {
   "cell_type": "code",
   "execution_count": 22,
   "id": "d8112926",
   "metadata": {},
   "outputs": [],
   "source": [
    "def train(dataloader, model, loss_func, optimizer):\n",
    "    size = len(dataloader.dataset)\n",
    "    for batch, (X, y) in enumerate(dataloader):\n",
    "        X, y = X.to(device), y.to(device)\n",
    "        \n",
    "        #오차 계산\n",
    "        pred=model(X)\n",
    "        loss=loss_func(pred, y)\n",
    "        \n",
    "        #Back-propagation\n",
    "        loss.backward()\n",
    "        optimizer.step()\n",
    "        optimizer.zero_grad()\n",
    "        \n",
    "        if batch % 100 == 0:\n",
    "            loss, current = loss.item(), (batch+1)*len(X)\n",
    "            print(f\"los: {loss:>7f} [{current:>5d}/{size:5>5d}]\")"
   ]
  },
  {
   "cell_type": "code",
   "execution_count": 23,
   "id": "d2e9a425",
   "metadata": {},
   "outputs": [],
   "source": [
    "def test(dataloader, model, loss_func):\n",
    "    size = len(dataloader.dataset)\n",
    "    num_batches =len(dataloader)\n",
    "    model.eval()\n",
    "    test_loss, correct = 0, 0\n",
    "    \n",
    "    with torch.no_grad():\n",
    "        for X, y in dataloader:\n",
    "            X, y = X.to(device), y.to(device)\n",
    "            pred=model(X)\n",
    "            test_loss += loss_func(pred, y).item()\n",
    "            correct += (pred.argmax(1) == y).type(torch.float).sum().item()\n",
    "            \n",
    "    test_loss /= num_batches\n",
    "    correct /= size\n",
    "    print(f\"Test Error: \\n Accuracy: {100*correct:>0.1f}%, Avg Loss: {test_loss:>8f} \\n\")"
   ]
  },
  {
   "cell_type": "markdown",
   "id": "05748f27",
   "metadata": {},
   "source": [
    "## 모델 학습시키기"
   ]
  },
  {
   "cell_type": "code",
   "execution_count": 24,
   "id": "fe194ffe",
   "metadata": {},
   "outputs": [
    {
     "name": "stdout",
     "output_type": "stream",
     "text": [
      "Epoch: 1\n",
      "---------------------------------------\n",
      "los: 2.295300 [   64/60000]\n",
      "los: 2.293468 [ 6464/60000]\n",
      "los: 2.269033 [12864/60000]\n",
      "los: 2.275486 [19264/60000]\n",
      "los: 2.251346 [25664/60000]\n",
      "los: 2.225780 [32064/60000]\n",
      "los: 2.241717 [38464/60000]\n",
      "los: 2.201496 [44864/60000]\n",
      "los: 2.208124 [51264/60000]\n",
      "los: 2.185780 [57664/60000]\n",
      "Test Error: \n",
      " Accuracy: 36.3%, Avg Loss: 2.175108 \n",
      "\n",
      "Epoch: 2\n",
      "---------------------------------------\n",
      "los: 2.177962 [   64/60000]\n",
      "los: 2.174139 [ 6464/60000]\n",
      "los: 2.115750 [12864/60000]\n",
      "los: 2.146259 [19264/60000]\n",
      "los: 2.089188 [25664/60000]\n",
      "los: 2.032242 [32064/60000]\n",
      "los: 2.076051 [38464/60000]\n",
      "los: 1.994585 [44864/60000]\n",
      "los: 2.007976 [51264/60000]\n",
      "los: 1.953589 [57664/60000]\n",
      "Test Error: \n",
      " Accuracy: 53.4%, Avg Loss: 1.940495 \n",
      "\n",
      "Epoch: 3\n",
      "---------------------------------------\n",
      "los: 1.956885 [   64/60000]\n",
      "los: 1.938449 [ 6464/60000]\n",
      "los: 1.821211 [12864/60000]\n",
      "los: 1.881373 [19264/60000]\n",
      "los: 1.759478 [25664/60000]\n",
      "los: 1.703789 [32064/60000]\n",
      "los: 1.744446 [38464/60000]\n",
      "los: 1.636039 [44864/60000]\n",
      "los: 1.658907 [51264/60000]\n",
      "los: 1.564038 [57664/60000]\n",
      "Test Error: \n",
      " Accuracy: 62.5%, Avg Loss: 1.571572 \n",
      "\n",
      "Epoch: 4\n",
      "---------------------------------------\n",
      "los: 1.623458 [   64/60000]\n",
      "los: 1.593414 [ 6464/60000]\n",
      "los: 1.439985 [12864/60000]\n",
      "los: 1.521380 [19264/60000]\n",
      "los: 1.384265 [25664/60000]\n",
      "los: 1.379348 [32064/60000]\n",
      "los: 1.396634 [38464/60000]\n",
      "los: 1.317738 [44864/60000]\n",
      "los: 1.348312 [51264/60000]\n",
      "los: 1.249170 [57664/60000]\n",
      "Test Error: \n",
      " Accuracy: 63.8%, Avg Loss: 1.275117 \n",
      "\n",
      "Epoch: 5\n",
      "---------------------------------------\n",
      "los: 1.348446 [   64/60000]\n",
      "los: 1.330461 [ 6464/60000]\n",
      "los: 1.164837 [12864/60000]\n",
      "los: 1.272185 [19264/60000]\n",
      "los: 1.136897 [25664/60000]\n",
      "los: 1.166499 [32064/60000]\n",
      "los: 1.182913 [38464/60000]\n",
      "los: 1.120687 [44864/60000]\n",
      "los: 1.157073 [51264/60000]\n",
      "los: 1.072980 [57664/60000]\n",
      "Test Error: \n",
      " Accuracy: 64.8%, Avg Loss: 1.095705 \n",
      "\n",
      "Epoch: 6\n",
      "---------------------------------------\n",
      "los: 1.167089 [   64/60000]\n",
      "los: 1.166928 [ 6464/60000]\n",
      "los: 0.988030 [12864/60000]\n",
      "los: 1.122099 [19264/60000]\n",
      "los: 0.991495 [25664/60000]\n",
      "los: 1.029525 [32064/60000]\n",
      "los: 1.057474 [38464/60000]\n",
      "los: 1.000290 [44864/60000]\n",
      "los: 1.037449 [51264/60000]\n",
      "los: 0.968322 [57664/60000]\n",
      "Test Error: \n",
      " Accuracy: 65.8%, Avg Loss: 0.984232 \n",
      "\n",
      "Epoch: 7\n",
      "---------------------------------------\n",
      "los: 1.044540 [   64/60000]\n",
      "los: 1.063822 [ 6464/60000]\n",
      "los: 0.870062 [12864/60000]\n",
      "los: 1.025368 [19264/60000]\n",
      "los: 0.903761 [25664/60000]\n",
      "los: 0.935662 [32064/60000]\n",
      "los: 0.978042 [38464/60000]\n",
      "los: 0.923707 [44864/60000]\n",
      "los: 0.956973 [51264/60000]\n",
      "los: 0.900220 [57664/60000]\n",
      "Test Error: \n",
      " Accuracy: 67.1%, Avg Loss: 0.910088 \n",
      "\n",
      "Epoch: 8\n",
      "---------------------------------------\n",
      "los: 0.955877 [   64/60000]\n",
      "los: 0.993663 [ 6464/60000]\n",
      "los: 0.786773 [12864/60000]\n",
      "los: 0.958821 [19264/60000]\n",
      "los: 0.846712 [25664/60000]\n",
      "los: 0.868410 [32064/60000]\n",
      "los: 0.923460 [38464/60000]\n",
      "los: 0.873169 [44864/60000]\n",
      "los: 0.899920 [51264/60000]\n",
      "los: 0.852281 [57664/60000]\n",
      "Test Error: \n",
      " Accuracy: 68.2%, Avg Loss: 0.857620 \n",
      "\n",
      "Epoch: 9\n",
      "---------------------------------------\n",
      "los: 0.888504 [   64/60000]\n",
      "los: 0.942112 [ 6464/60000]\n",
      "los: 0.725291 [12864/60000]\n",
      "los: 0.910331 [19264/60000]\n",
      "los: 0.806638 [25664/60000]\n",
      "los: 0.818368 [32064/60000]\n",
      "los: 0.882876 [38464/60000]\n",
      "los: 0.838420 [44864/60000]\n",
      "los: 0.857603 [51264/60000]\n",
      "los: 0.816280 [57664/60000]\n",
      "Test Error: \n",
      " Accuracy: 69.3%, Avg Loss: 0.818328 \n",
      "\n",
      "Epoch: 10\n",
      "---------------------------------------\n",
      "los: 0.834833 [   64/60000]\n",
      "los: 0.901320 [ 6464/60000]\n",
      "los: 0.677699 [12864/60000]\n",
      "los: 0.873524 [19264/60000]\n",
      "los: 0.776356 [25664/60000]\n",
      "los: 0.779906 [32064/60000]\n",
      "los: 0.850332 [38464/60000]\n",
      "los: 0.812917 [44864/60000]\n",
      "los: 0.824849 [51264/60000]\n",
      "los: 0.787798 [57664/60000]\n",
      "Test Error: \n",
      " Accuracy: 70.5%, Avg Loss: 0.787259 \n",
      "\n",
      "Done!\n"
     ]
    }
   ],
   "source": [
    "epoch = 10\n",
    "\n",
    "for t in range(epoch):\n",
    "    print(f\"Epoch: {t+1}\\n---------------------------------------\")\n",
    "    train(train_dataloader, model, loss_func=loss_func, optimizer=optimizer)\n",
    "    test(test_dataloader, model, loss_func)\n",
    "print(\"Done!\")"
   ]
  },
  {
   "cell_type": "markdown",
   "id": "3c36e7a5",
   "metadata": {},
   "source": [
    "batch=32, epoch=10일 경우 소요시간 1분 55초 / 407mb gram 소요"
   ]
  },
  {
   "cell_type": "markdown",
   "id": "6c7efa7e",
   "metadata": {},
   "source": [
    "batch=64, epoch=10 일 경우 소요시간 1분 37초 / 409mb gram 소요"
   ]
  },
  {
   "cell_type": "markdown",
   "id": "419d8c32",
   "metadata": {},
   "source": [
    "batch=128, epoch=10 일 경우 소요시간 1분 25초 / 409mb gram 소요"
   ]
  },
  {
   "cell_type": "markdown",
   "id": "571c64f7",
   "metadata": {},
   "source": [
    "## 모델 저장하기"
   ]
  },
  {
   "cell_type": "code",
   "execution_count": 25,
   "id": "bf292223",
   "metadata": {},
   "outputs": [
    {
     "name": "stdout",
     "output_type": "stream",
     "text": [
      "Model saved...\n"
     ]
    }
   ],
   "source": [
    "torch.save(model.state_dict(), \"checkpoints/model.pth\")\n",
    "print(\"Model saved...\")"
   ]
  },
  {
   "cell_type": "markdown",
   "id": "c528aeda",
   "metadata": {},
   "source": [
    "## 모델 불러오기"
   ]
  },
  {
   "cell_type": "code",
   "execution_count": 26,
   "id": "2ffdf6c7",
   "metadata": {},
   "outputs": [
    {
     "data": {
      "text/plain": [
       "<All keys matched successfully>"
      ]
     },
     "execution_count": 26,
     "metadata": {},
     "output_type": "execute_result"
    }
   ],
   "source": [
    "model = NeuralNetwork().to(device=device)\n",
    "model.load_state_dict(torch.load(\"checkpoints/model.pth\"))"
   ]
  },
  {
   "cell_type": "markdown",
   "id": "6cfc9a41",
   "metadata": {},
   "source": [
    "## 모델 추론하기"
   ]
  },
  {
   "cell_type": "code",
   "execution_count": 27,
   "id": "4a16b739",
   "metadata": {},
   "outputs": [
    {
     "name": "stdout",
     "output_type": "stream",
     "text": [
      "Predicted: \"Trouser\", Actual: \"Trouser\"\n"
     ]
    }
   ],
   "source": [
    "classes = [\n",
    "    \"T-shirt/top\",\n",
    "    \"Trouser\",\n",
    "    \"Pullover\",\n",
    "    \"Dress\",\n",
    "    \"Coat\",\n",
    "    \"Sandal\",\n",
    "    \"Shirt\",\n",
    "    \"Sneaker\",\n",
    "    \"Bag\",\n",
    "    \"Ankle boot\",\n",
    "]\n",
    "\n",
    "model.eval()\n",
    "index = 80\n",
    "x, y = test_data[index][0], test_data[index][1]\n",
    "with torch.no_grad():\n",
    "    x = x.to(device)\n",
    "    pred = model(x)\n",
    "    predicted, actual = classes[pred[0].argmax(0)], classes[y]\n",
    "    print(f'Predicted: \"{predicted}\", Actual: \"{actual}\"')"
   ]
  },
  {
   "cell_type": "code",
   "execution_count": 28,
   "id": "0e8a9fe8",
   "metadata": {},
   "outputs": [
    {
     "data": {
      "text/plain": [
       "'\\ndef clear_gpu_memory():\\n    import gc\\n    import torch\\n\\n    globals_to_clear = [\\'model\\', \\'x\\', \\'y\\', \\'pred\\']  # 전역 네임스페이스에 등록된 이름도 삭제\\n    for name in globals_to_clear:\\n        if name in globals():\\n            globals()[name] = None\\n\\n    gc.collect()\\n    torch.cuda.empty_cache()\\n    torch.cuda.ipc_collect()\\n    print(\"🧹 GPU memory cleared!\")\\n\\nclear_gpu_memory()\\n'"
      ]
     },
     "execution_count": 28,
     "metadata": {},
     "output_type": "execute_result"
    }
   ],
   "source": [
    "\"\"\"\n",
    "def clear_gpu_memory():\n",
    "    import gc\n",
    "    import torch\n",
    "\n",
    "    globals_to_clear = ['model', 'x', 'y', 'pred']  # 전역 네임스페이스에 등록된 이름도 삭제\n",
    "    for name in globals_to_clear:\n",
    "        if name in globals():\n",
    "            globals()[name] = None\n",
    "\n",
    "    gc.collect()\n",
    "    torch.cuda.empty_cache()\n",
    "    torch.cuda.ipc_collect()\n",
    "    print(\"🧹 GPU memory cleared!\")\n",
    "\n",
    "clear_gpu_memory()\n",
    "\"\"\""
   ]
  }
 ],
 "metadata": {
  "kernelspec": {
   "display_name": "Python 3",
   "language": "python",
   "name": "python3"
  },
  "language_info": {
   "codemirror_mode": {
    "name": "ipython",
    "version": 3
   },
   "file_extension": ".py",
   "mimetype": "text/x-python",
   "name": "python",
   "nbconvert_exporter": "python",
   "pygments_lexer": "ipython3",
   "version": "3.10.12"
  }
 },
 "nbformat": 4,
 "nbformat_minor": 5
}
