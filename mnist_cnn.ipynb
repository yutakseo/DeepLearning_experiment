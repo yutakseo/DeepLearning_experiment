{
 "cells": [
  {
   "cell_type": "code",
   "execution_count": 1,
   "id": "04067f63",
   "metadata": {},
   "outputs": [],
   "source": [
    "import torch\n",
    "from torch import nn\n",
    "from torch.utils.data import DataLoader\n",
    "from torchvision import datasets\n",
    "from torchvision.transforms import ToTensor\n"
   ]
  },
  {
   "cell_type": "code",
   "execution_count": 2,
   "id": "fc94ccb2",
   "metadata": {},
   "outputs": [],
   "source": [
    "#훈련 데이터셋 로드\n",
    "training_data=datasets.FashionMNIST(\n",
    "    root=\"data\",\n",
    "    train=True,\n",
    "    download=True,\n",
    "    transform=ToTensor(),\n",
    ")"
   ]
  },
  {
   "cell_type": "code",
   "execution_count": 3,
   "id": "3e06a741",
   "metadata": {},
   "outputs": [],
   "source": [
    "#테스트 데이터셋 로드\n",
    "test_data=datasets.FashionMNIST(\n",
    "    root=\"data\",\n",
    "    train=False,\n",
    "    download=True,\n",
    "    transform=ToTensor(),\n",
    ")"
   ]
  },
  {
   "cell_type": "code",
   "execution_count": 4,
   "id": "b0de103b",
   "metadata": {},
   "outputs": [],
   "source": [
    "batch_size=512\n",
    "\n",
    "train_dataloader= DataLoader(training_data, batch_size=batch_size)\n",
    "test_dataloader= DataLoader(test_data, batch_size=batch_size)\n"
   ]
  },
  {
   "cell_type": "code",
   "execution_count": 5,
   "id": "87c8a918",
   "metadata": {},
   "outputs": [
    {
     "name": "stdout",
     "output_type": "stream",
     "text": [
      "Shape of X [N, C, H, W]: torch.Size([512, 1, 28, 28])\n",
      "Shape of y:torch.Size([512]), Type is 'torch.int64'\n"
     ]
    }
   ],
   "source": [
    "for X, y in test_dataloader:\n",
    "    print(f\"Shape of X [N, C, H, W]: {X.shape}\")\n",
    "    print(f\"Shape of y:{y.shape}, Type is '{y.dtype}'\")\n",
    "    break"
   ]
  },
  {
   "cell_type": "code",
   "execution_count": 6,
   "id": "f6a0074f",
   "metadata": {},
   "outputs": [],
   "source": [
    "import torch\n",
    "\n",
    "device = torch.device(\"cuda\" if torch.cuda.is_available() else \"cpu\")"
   ]
  },
  {
   "cell_type": "markdown",
   "id": "363a7070",
   "metadata": {},
   "source": [
    "## 모델 정의"
   ]
  },
  {
   "cell_type": "code",
   "execution_count": 8,
   "id": "107c11a3",
   "metadata": {},
   "outputs": [
    {
     "name": "stdout",
     "output_type": "stream",
     "text": [
      "Using 2 GPUs\n",
      "DataParallel(\n",
      "  (module): CnnBasedFashion(\n",
      "    (conv_stack): Sequential(\n",
      "      (0): Conv2d(1, 32, kernel_size=(3, 3), stride=(1, 1), padding=(1, 1))\n",
      "      (1): ReLU()\n",
      "      (2): MaxPool2d(kernel_size=2, stride=2, padding=0, dilation=1, ceil_mode=False)\n",
      "      (3): Conv2d(32, 64, kernel_size=(3, 3), stride=(1, 1), padding=(1, 1))\n",
      "      (4): ReLU()\n",
      "      (5): MaxPool2d(kernel_size=2, stride=2, padding=0, dilation=1, ceil_mode=False)\n",
      "    )\n",
      "    (fc_stack): Sequential(\n",
      "      (0): Flatten(start_dim=1, end_dim=-1)\n",
      "      (1): Linear(in_features=3136, out_features=128, bias=True)\n",
      "      (2): ReLU()\n",
      "      (3): Linear(in_features=128, out_features=10, bias=True)\n",
      "    )\n",
      "  )\n",
      ")\n"
     ]
    }
   ],
   "source": [
    "class CnnBasedFashion(nn.Module):\n",
    "    def __init__(self, *args, **kwargs) -> None:\n",
    "        super().__init__(*args, **kwargs)\n",
    "        self.conv_stack = nn.Sequential(\n",
    "            nn.Conv2d(1, 32, kernel_size=3, padding=1),\n",
    "            nn.ReLU(),\n",
    "            nn.MaxPool2d(2),\n",
    "            \n",
    "            nn.Conv2d(32, 64, kernel_size=3, padding=1),\n",
    "            nn.ReLU(),\n",
    "            nn.MaxPool2d(2),\n",
    "        )\n",
    "        \n",
    "        self.fc_stack = nn.Sequential(\n",
    "            nn.Flatten(),\n",
    "            nn.Linear(64*7*7, 128),\n",
    "            nn.ReLU(),\n",
    "            nn.Linear(128, 10)\n",
    "        )\n",
    "        \n",
    "    def forward(self, x):\n",
    "        x = self.conv_stack(x)\n",
    "        x = self.fc_stack(x)\n",
    "        return x\n",
    "\n",
    "\n",
    "model = CnnBasedFashion().to(device=device)\n",
    "if torch.cuda.device_count() > 1:\n",
    "    print(f\"Using {torch.cuda.device_count()} GPUs\")\n",
    "    model = nn.DataParallel(model)\n",
    "    \n",
    "print(model)"
   ]
  },
  {
   "cell_type": "markdown",
   "id": "adaa0914",
   "metadata": {},
   "source": [
    "## 모델학습 정의"
   ]
  },
  {
   "cell_type": "code",
   "execution_count": 9,
   "id": "f8a8f16a",
   "metadata": {},
   "outputs": [],
   "source": [
    "loss_func = nn.CrossEntropyLoss()\n",
    "optimizer = torch.optim.SGD(model.parameters(), lr=1e-3)"
   ]
  },
  {
   "cell_type": "code",
   "execution_count": 10,
   "id": "d8112926",
   "metadata": {},
   "outputs": [],
   "source": [
    "def train(dataloader, model, loss_func, optimizer):\n",
    "    size = len(dataloader.dataset)\n",
    "    for batch, (X, y) in enumerate(dataloader):\n",
    "        X, y = X.to(device), y.to(device)\n",
    "        \n",
    "        #오차 계산\n",
    "        pred=model(X)\n",
    "        loss=loss_func(pred, y)\n",
    "        \n",
    "        #Back-propagation\n",
    "        loss.backward()\n",
    "        optimizer.step()\n",
    "        optimizer.zero_grad()\n",
    "        \n",
    "        if batch % 100 == 0:\n",
    "            loss, current = loss.item(), (batch+1)*len(X)\n",
    "            print(f\"los: {loss:>7f} [{current:>5d}/{size:5>5d}]\")"
   ]
  },
  {
   "cell_type": "code",
   "execution_count": 11,
   "id": "d2e9a425",
   "metadata": {},
   "outputs": [],
   "source": [
    "def test(dataloader, model, loss_func):\n",
    "    size = len(dataloader.dataset)\n",
    "    num_batches =len(dataloader)\n",
    "    model.eval()\n",
    "    test_loss, correct = 0, 0\n",
    "    \n",
    "    with torch.no_grad():\n",
    "        for X, y in dataloader:\n",
    "            X, y = X.to(device), y.to(device)\n",
    "            pred=model(X)\n",
    "            test_loss += loss_func(pred, y).item()\n",
    "            correct += (pred.argmax(1) == y).type(torch.float).sum().item()\n",
    "            \n",
    "    test_loss /= num_batches\n",
    "    correct /= size\n",
    "    print(f\"Test Error: \\n Accuracy: {100*correct:>0.1f}%, Avg Loss: {test_loss:>8f} \\n\")"
   ]
  },
  {
   "cell_type": "markdown",
   "id": "05748f27",
   "metadata": {},
   "source": [
    "## 모델 학습시키기"
   ]
  },
  {
   "cell_type": "code",
   "execution_count": 12,
   "id": "fe194ffe",
   "metadata": {},
   "outputs": [
    {
     "name": "stdout",
     "output_type": "stream",
     "text": [
      "Epoch: 1\n",
      "---------------------------------------\n",
      "los: 2.299943 [  512/60000]\n",
      "los: 2.292825 [51712/60000]\n",
      "Test Error: \n",
      " Accuracy: 10.0%, Avg Loss: 2.293397 \n",
      "\n",
      "Epoch: 2\n",
      "---------------------------------------\n",
      "los: 2.292573 [  512/60000]\n",
      "los: 2.287254 [51712/60000]\n",
      "Test Error: \n",
      " Accuracy: 10.0%, Avg Loss: 2.288083 \n",
      "\n",
      "Epoch: 3\n",
      "---------------------------------------\n",
      "los: 2.287365 [  512/60000]\n",
      "los: 2.281882 [51712/60000]\n",
      "Test Error: \n",
      " Accuracy: 10.4%, Avg Loss: 2.282730 \n",
      "\n",
      "Epoch: 4\n",
      "---------------------------------------\n",
      "los: 2.282161 [  512/60000]\n",
      "los: 2.276350 [51712/60000]\n",
      "Test Error: \n",
      " Accuracy: 12.3%, Avg Loss: 2.277068 \n",
      "\n",
      "Epoch: 5\n",
      "---------------------------------------\n",
      "los: 2.276672 [  512/60000]\n",
      "los: 2.270001 [51712/60000]\n",
      "Test Error: \n",
      " Accuracy: 14.7%, Avg Loss: 2.270548 \n",
      "\n",
      "Epoch: 6\n",
      "---------------------------------------\n",
      "los: 2.270337 [  512/60000]\n",
      "los: 2.262621 [51712/60000]\n",
      "Test Error: \n",
      " Accuracy: 17.3%, Avg Loss: 2.262940 \n",
      "\n",
      "Epoch: 7\n",
      "---------------------------------------\n",
      "los: 2.262876 [  512/60000]\n",
      "los: 2.253829 [51712/60000]\n",
      "Test Error: \n",
      " Accuracy: 23.6%, Avg Loss: 2.253848 \n",
      "\n",
      "Epoch: 8\n",
      "---------------------------------------\n",
      "los: 2.253916 [  512/60000]\n",
      "los: 2.243166 [51712/60000]\n",
      "Test Error: \n",
      " Accuracy: 30.7%, Avg Loss: 2.242784 \n",
      "\n",
      "Epoch: 9\n",
      "---------------------------------------\n",
      "los: 2.243045 [  512/60000]\n",
      "los: 2.230155 [51712/60000]\n",
      "Test Error: \n",
      " Accuracy: 38.4%, Avg Loss: 2.229273 \n",
      "\n",
      "Epoch: 10\n",
      "---------------------------------------\n",
      "los: 2.229777 [  512/60000]\n",
      "los: 2.214139 [51712/60000]\n",
      "Test Error: \n",
      " Accuracy: 43.9%, Avg Loss: 2.212595 \n",
      "\n",
      "Done!\n"
     ]
    }
   ],
   "source": [
    "epoch = 10\n",
    "\n",
    "for t in range(epoch):\n",
    "    print(f\"Epoch: {t+1}\\n---------------------------------------\")\n",
    "    train(train_dataloader, model, loss_func=loss_func, optimizer=optimizer)\n",
    "    test(test_dataloader, model, loss_func)\n",
    "print(\"Done!\")"
   ]
  },
  {
   "cell_type": "markdown",
   "id": "3c36e7a5",
   "metadata": {},
   "source": [
    "batch=32, epoch=10일 경우 소요시간 1분 55초 / 407mb gram 소요"
   ]
  },
  {
   "cell_type": "markdown",
   "id": "6c7efa7e",
   "metadata": {},
   "source": [
    "batch=64, epoch=10 일 경우 소요시간 1분 37초 / 409mb gram 소요"
   ]
  },
  {
   "cell_type": "markdown",
   "id": "419d8c32",
   "metadata": {},
   "source": [
    "batch=128, epoch=10 일 경우 소요시간 1분 25초 / 409mb gram 소요"
   ]
  },
  {
   "cell_type": "markdown",
   "id": "571c64f7",
   "metadata": {},
   "source": [
    "## 모델 저장하기"
   ]
  },
  {
   "cell_type": "code",
   "execution_count": 13,
   "id": "bf292223",
   "metadata": {},
   "outputs": [
    {
     "name": "stdout",
     "output_type": "stream",
     "text": [
      "Model saved...\n"
     ]
    }
   ],
   "source": [
    "torch.save(model.state_dict(), \"checkpoints/cnn_model.pth\")\n",
    "print(\"Model saved...\")"
   ]
  },
  {
   "cell_type": "markdown",
   "id": "c528aeda",
   "metadata": {},
   "source": [
    "## 모델 불러오기"
   ]
  },
  {
   "cell_type": "code",
   "execution_count": 17,
   "id": "5eed2282",
   "metadata": {},
   "outputs": [
    {
     "data": {
      "text/plain": [
       "<All keys matched successfully>"
      ]
     },
     "execution_count": 17,
     "metadata": {},
     "output_type": "execute_result"
    }
   ],
   "source": [
    "model =CnnBasedFashion()\n",
    "model =nn.DataParallel(model)\n",
    "model.to(device=device)\n",
    "model.load_state_dict(torch.load(\"checkpoints/cnn_model.pth\"))"
   ]
  },
  {
   "cell_type": "markdown",
   "id": "6cfc9a41",
   "metadata": {},
   "source": [
    "## 모델 추론하기"
   ]
  },
  {
   "cell_type": "code",
   "execution_count": 20,
   "id": "4a16b739",
   "metadata": {},
   "outputs": [
    {
     "name": "stdout",
     "output_type": "stream",
     "text": [
      "Predicted: \"Sandal\", Actual: \"Sandal\"\n"
     ]
    }
   ],
   "source": [
    "classes = [\n",
    "    \"T-shirt/top\",\n",
    "    \"Trouser\",\n",
    "    \"Pullover\",\n",
    "    \"Dress\",\n",
    "    \"Coat\",\n",
    "    \"Sandal\",\n",
    "    \"Shirt\",\n",
    "    \"Sneaker\",\n",
    "    \"Bag\",\n",
    "    \"Ankle boot\",\n",
    "]\n",
    "\n",
    "model.eval()\n",
    "index = 90\n",
    "x, y = test_data[index][0], test_data[index][1]\n",
    "with torch.no_grad():\n",
    "    x = x.unsqueeze(0).to(device)\n",
    "    pred = model(x)\n",
    "    predicted, actual = classes[pred[0].argmax(0)], classes[y]\n",
    "    print(f'Predicted: \"{predicted}\", Actual: \"{actual}\"')"
   ]
  },
  {
   "cell_type": "code",
   "execution_count": null,
   "id": "0e8a9fe8",
   "metadata": {},
   "outputs": [],
   "source": [
    "\"\"\"def clear_gpu_memory():\n",
    "    import gc\n",
    "    import torch\n",
    "\n",
    "    globals_to_clear = ['model', 'x', 'y', 'pred']  # 전역 네임스페이스에 등록된 이름도 삭제\n",
    "    for name in globals_to_clear:\n",
    "        if name in globals():\n",
    "            globals()[name] = None\n",
    "\n",
    "    gc.collect()\n",
    "    torch.cuda.empty_cache()\n",
    "    torch.cuda.ipc_collect()\n",
    "    print(\"🧹 GPU memory cleared!\")\n",
    "\n",
    "clear_gpu_memory()\"\"\""
   ]
  }
 ],
 "metadata": {
  "kernelspec": {
   "display_name": "Python 3",
   "language": "python",
   "name": "python3"
  },
  "language_info": {
   "codemirror_mode": {
    "name": "ipython",
    "version": 3
   },
   "file_extension": ".py",
   "mimetype": "text/x-python",
   "name": "python",
   "nbconvert_exporter": "python",
   "pygments_lexer": "ipython3",
   "version": "3.10.12"
  }
 },
 "nbformat": 4,
 "nbformat_minor": 5
}
