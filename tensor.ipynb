{
 "cells": [
  {
   "cell_type": "code",
   "execution_count": 1,
   "id": "899584e9",
   "metadata": {},
   "outputs": [],
   "source": [
    "import torch\n",
    "import numpy as np"
   ]
  },
  {
   "cell_type": "markdown",
   "id": "fba633ff",
   "metadata": {},
   "source": [
    "## 텐서 생성"
   ]
  },
  {
   "cell_type": "markdown",
   "id": "76fa3294",
   "metadata": {},
   "source": [
    "텐서는 리스트, 넘파이 Array형으로부터 생성 가능"
   ]
  },
  {
   "cell_type": "code",
   "execution_count": 5,
   "id": "637d087b",
   "metadata": {},
   "outputs": [
    {
     "name": "stdout",
     "output_type": "stream",
     "text": [
      "tensor([[1, 2],\n",
      "        [3, 4]])\n"
     ]
    }
   ],
   "source": [
    "#파이썬 이중리스트로 텐서를 생성\n",
    "data=[\n",
    "    [1, 2],\n",
    "    [3, 4]\n",
    "]\n",
    "x_data=torch.tensor(data)\n",
    "print(x_data)"
   ]
  },
  {
   "cell_type": "code",
   "execution_count": 6,
   "id": "d9d8e195",
   "metadata": {},
   "outputs": [
    {
     "name": "stdout",
     "output_type": "stream",
     "text": [
      "tensor([[1, 2],\n",
      "        [3, 4]])\n"
     ]
    }
   ],
   "source": [
    "#넘파이 Array로 텐서를 생성\n",
    "np_array=np.array(data)\n",
    "x_np=torch.tensor(np_array)\n",
    "print(x_np)"
   ]
  },
  {
   "cell_type": "code",
   "execution_count": 7,
   "id": "c51c3996",
   "metadata": {},
   "outputs": [
    {
     "name": "stdout",
     "output_type": "stream",
     "text": [
      "tensor([[1, 1],\n",
      "        [1, 1]])\n",
      "tensor([[0.2771, 0.1855],\n",
      "        [0.1675, 0.5659]])\n"
     ]
    }
   ],
   "source": [
    "#텐서로부터 1로 가득찬 텐서 생성\n",
    "x_ones=torch.ones_like(x_data)\n",
    "print(x_ones)\n",
    "\n",
    "#텐서로부터 랜덤값으로 가득찬 텐서 생성\n",
    "x_rand=torch.rand_like(x_data, dtype=torch.float)\n",
    "print(x_rand)"
   ]
  },
  {
   "cell_type": "markdown",
   "id": "f7f49f06",
   "metadata": {},
   "source": [
    "텐서 생성은 튜플로 지정된 행과 열의 크기에 맞게 생성 가능"
   ]
  },
  {
   "cell_type": "code",
   "execution_count": null,
   "id": "d3573d76",
   "metadata": {},
   "outputs": [
    {
     "name": "stdout",
     "output_type": "stream",
     "text": [
      "Random Tensor: \n",
      " tensor([[0.9435, 0.4367, 0.9892],\n",
      "        [0.7394, 0.9409, 0.7235]]) \n",
      "\n",
      "Ones Tensor: \n",
      " tensor([[1., 1., 1.],\n",
      "        [1., 1., 1.]]) \n",
      "\n",
      "Zeros Tensor: \n",
      " tensor([[0., 0., 0.],\n",
      "        [0., 0., 0.]])\n"
     ]
    }
   ],
   "source": [
    "#튜플 안에 차원을 계속 증가시킬 수 있음\n",
    "shape = (2,3,)\n",
    "\n",
    "#텐서 생성할 때 텐서의 크기를 지정하는 인자는 size=(행, 열)\n",
    "rand_tensor=torch.rand(size=shape)\n",
    "ones_tensor=torch.ones(size=shape)\n",
    "zeros_tensor=torch.zeros(size=shape)\n",
    "\n",
    "print(f\"Random Tensor: \\n {rand_tensor} \\n\")\n",
    "print(f\"Ones Tensor: \\n {ones_tensor} \\n\")\n",
    "print(f\"Zeros Tensor: \\n {zeros_tensor}\")"
   ]
  },
  {
   "cell_type": "markdown",
   "id": "c12582ae",
   "metadata": {},
   "source": [
    "텐서 속성은 다음과 같이 출력할 수 있음"
   ]
  },
  {
   "cell_type": "code",
   "execution_count": 24,
   "id": "5240a3c3",
   "metadata": {},
   "outputs": [
    {
     "name": "stdout",
     "output_type": "stream",
     "text": [
      "Shape of tensor: torch.Size([2, 2])\n",
      "Datatype of tensor: torch.float64\n",
      "Device tensor is stored on: cuda:0\n"
     ]
    }
   ],
   "source": [
    "tensor=torch.rand(size=(2,2), dtype=float, device=\"cuda\")\n",
    "\n",
    "print(f\"Shape of tensor: {tensor.shape}\")\n",
    "print(f\"Datatype of tensor: {tensor.dtype}\")\n",
    "print(f\"Device tensor is stored on: {tensor.device}\")"
   ]
  },
  {
   "cell_type": "markdown",
   "id": "4fe0a422",
   "metadata": {},
   "source": [
    "## 텐서 연산"
   ]
  },
  {
   "cell_type": "code",
   "execution_count": 25,
   "id": "0a75246a",
   "metadata": {},
   "outputs": [],
   "source": [
    "#GPU를 호출할 때는 \"cuda\"라고 명시\n",
    "if torch.cuda.is_available():\n",
    "    tensor.to(\"cuda\")\n",
    "else:\n",
    "    tensor.to(\"cpu\")"
   ]
  },
  {
   "cell_type": "markdown",
   "id": "472209f8",
   "metadata": {},
   "source": [
    "텐서에서 특정 인덱스를 호출할 때는, 텐서이름[행:열]"
   ]
  },
  {
   "cell_type": "code",
   "execution_count": 30,
   "id": "7e7a3c78",
   "metadata": {},
   "outputs": [
    {
     "name": "stdout",
     "output_type": "stream",
     "text": [
      "tensor is...\n",
      " tensor([[0.0316, 0.5983, 0.6726, 0.3887],\n",
      "        [0.6170, 0.5851, 0.3799, 0.0835],\n",
      "        [0.5812, 0.6894, 0.3459, 0.4387],\n",
      "        [0.7251, 0.6922, 0.5982, 0.5985]])\n",
      "\n",
      "First row: tensor([0.0316, 0.5983, 0.6726, 0.3887])\n",
      "First column: tensor([0.0316, 0.6170, 0.5812, 0.7251])\n",
      "Last column: tensor([0.3887, 0.0835, 0.4387, 0.5985])\n"
     ]
    }
   ],
   "source": [
    "tensor=torch.rand(size=(4,4))\n",
    "\n",
    "print(f\"tensor is...\\n {tensor}\\n\")\n",
    "\n",
    "print(f\"First row: {tensor[0]}\")\n",
    "print(f\"First column: {tensor[:,0]}\")\n",
    "print(f\"Last column: {tensor[:,-1]}\")"
   ]
  },
  {
   "cell_type": "code",
   "execution_count": 32,
   "id": "f4caa0e7",
   "metadata": {},
   "outputs": [
    {
     "name": "stdout",
     "output_type": "stream",
     "text": [
      "tensor is...\n",
      " tensor([[ 0.0316, 10.0000,  0.6726,  0.3887],\n",
      "        [ 0.0000,  0.0000,  0.0000,  0.0000],\n",
      "        [ 0.5812, 10.0000,  0.3459,  0.4387],\n",
      "        [ 0.7251, 10.0000,  0.5982,  0.5985]])\n",
      "\n"
     ]
    }
   ],
   "source": [
    "#tensor의 1번째 열의 값을 모두 100으로 치환\n",
    "tensor[:,1]=10\n",
    "\n",
    "#tensor의 1번째 행의 값을 모두 0으로 치환\n",
    "tensor[1]=0\n",
    "\n",
    "\n",
    "print(f\"tensor is...\\n {tensor}\\n\")"
   ]
  },
  {
   "cell_type": "code",
   "execution_count": 34,
   "id": "d056ace0",
   "metadata": {},
   "outputs": [
    {
     "name": "stdout",
     "output_type": "stream",
     "text": [
      "tensor is...\n",
      " tensor([[ 0.0316, 10.0000,  0.6726,  0.3887,  0.0316, 10.0000,  0.6726,  0.3887],\n",
      "        [ 0.0000,  0.0000,  0.0000,  0.0000,  0.0000,  0.0000,  0.0000,  0.0000],\n",
      "        [ 0.5812, 10.0000,  0.3459,  0.4387,  0.5812, 10.0000,  0.3459,  0.4387],\n",
      "        [ 0.7251, 10.0000,  0.5982,  0.5985,  0.7251, 10.0000,  0.5982,  0.5985]])\n",
      "\n"
     ]
    }
   ],
   "source": [
    "#텐서 합치기(Concatination)\n",
    "concated_tensor = torch.cat([tensor, tensor], dim=1)\n",
    "\n",
    "print(f\"tensor is...\\n {concated_tensor}\\n\")"
   ]
  },
  {
   "cell_type": "markdown",
   "id": "1c6fe38e",
   "metadata": {},
   "source": [
    "산술연산"
   ]
  },
  {
   "cell_type": "code",
   "execution_count": 37,
   "id": "32985b0e",
   "metadata": {},
   "outputs": [
    {
     "name": "stdout",
     "output_type": "stream",
     "text": [
      "tensor is...\n",
      " tensor([[ 0.0316, 10.0000,  0.6726,  0.3887],\n",
      "        [ 0.0000,  0.0000,  0.0000,  0.0000],\n",
      "        [ 0.5812, 10.0000,  0.3459,  0.4387],\n",
      "        [ 0.7251, 10.0000,  0.5982,  0.5985]])\n",
      "tensor.T is...\n",
      " tensor([[ 0.0316,  0.0000,  0.5812,  0.7251],\n",
      "        [10.0000,  0.0000, 10.0000, 10.0000],\n",
      "        [ 0.6726,  0.0000,  0.3459,  0.5982],\n",
      "        [ 0.3887,  0.0000,  0.4387,  0.5985]])\n",
      "\n"
     ]
    }
   ],
   "source": [
    "#행렬곱 연산(여기서 tensor.T는 전치행렬)\n",
    "y1= tensor @ tensor.T\n",
    "\n",
    "print(f\"tensor is...\\n {tensor}\")\n",
    "print(f\"tensor.T is...\\n {tensor.T}\\n\")"
   ]
  },
  {
   "cell_type": "code",
   "execution_count": 38,
   "id": "d33eca35",
   "metadata": {},
   "outputs": [
    {
     "name": "stdout",
     "output_type": "stream",
     "text": [
      "y1 is...\n",
      " tensor([[100.6045,   0.0000, 100.4215, 100.6578],\n",
      "        [  0.0000,   0.0000,   0.0000,   0.0000],\n",
      "        [100.4215,   0.0000, 100.6498, 100.8909],\n",
      "        [100.6578,   0.0000, 100.8909, 101.2418]])\n",
      "\n"
     ]
    }
   ],
   "source": [
    "print(f\"y1 is...\\n {y1}\\n\")"
   ]
  },
  {
   "cell_type": "code",
   "execution_count": null,
   "id": "454a2c7a",
   "metadata": {},
   "outputs": [
    {
     "name": "stdout",
     "output_type": "stream",
     "text": [
      "tensor(34.3804)\n",
      "34.380367279052734\n",
      "<class 'float'>\n"
     ]
    }
   ],
   "source": [
    "#단일 요소 텐서(텐서 안 모든 요소들의 합)\n",
    "agg=tensor.sum()\n",
    "agg_item=agg.item()\n",
    "\n",
    "print(agg)\n",
    "print(agg_item)\n",
    "print(type(agg_item))"
   ]
  },
  {
   "cell_type": "code",
   "execution_count": null,
   "id": "bdc05f3c",
   "metadata": {},
   "outputs": [
    {
     "name": "stdout",
     "output_type": "stream",
     "text": [
      "new tensor is...\n",
      " tensor([[1., 1., 1.],\n",
      "        [1., 1., 1.],\n",
      "        [1., 1., 1.]])\n",
      "\n",
      "new tensor is...\n",
      " tensor([[6., 6., 6.],\n",
      "        [6., 6., 6.],\n",
      "        [6., 6., 6.]])\n",
      "\n",
      "new tensor is...\n",
      " tensor([[11., 11., 11.],\n",
      "        [11., 11., 11.],\n",
      "        [11., 11., 11.]])\n",
      "\n"
     ]
    }
   ],
   "source": [
    "#바꿔치기 연산(솔직히 왜 이렇게 쓰는지 모르겠..)\n",
    "new_tensor=torch.ones(size=(3,3))\n",
    "print(f\"new tensor is...\\n {new_tensor}\\n\")\n",
    "\n",
    "new_tensor+=5\n",
    "print(f\"new tensor is...\\n {new_tensor}\\n\")\n",
    "new_tensor.add_(5)\n",
    "print(f\"new tensor is...\\n {new_tensor}\\n\")\n",
    "\n",
    "#아... GPU 메모리 상의 효율을 위해 사용함 --> 공식문서의 주의사항에서는 도함수(미분)연산을 할 때 값이 사라지니깐 사용하지 말라함"
   ]
  },
  {
   "cell_type": "markdown",
   "id": "9e33da5b",
   "metadata": {},
   "source": [
    "### 부록 : 텐서를 넘파이로 변환"
   ]
  },
  {
   "cell_type": "code",
   "execution_count": 46,
   "id": "39f0fac4",
   "metadata": {},
   "outputs": [
    {
     "name": "stdout",
     "output_type": "stream",
     "text": [
      "t: tensor([1., 1., 1., 1., 1.])\n",
      "n: [1. 1. 1. 1. 1.]\n"
     ]
    }
   ],
   "source": [
    "t = torch.ones(5)\n",
    "print(f\"t: {t}\")\n",
    "n = t.numpy()\n",
    "print(f\"n: {n}\")"
   ]
  },
  {
   "cell_type": "code",
   "execution_count": 47,
   "id": "57630c99",
   "metadata": {},
   "outputs": [
    {
     "name": "stdout",
     "output_type": "stream",
     "text": [
      "t: tensor([2., 2., 2., 2., 2.])\n",
      "n: [2. 2. 2. 2. 2.]\n"
     ]
    }
   ],
   "source": [
    "#바꿔치기 연산을 하더라도 넘파이에 유지(내 생각엔 메모리 주소 복사를 해서 스크립트 실행 때마다 변환하는 거 같음..)\n",
    "t.add_(1)\n",
    "print(f\"t: {t}\")\n",
    "print(f\"n: {n}\")"
   ]
  },
  {
   "cell_type": "markdown",
   "id": "a49ec44f",
   "metadata": {},
   "source": [
    "### 부록 : 넘파이를 텐서로 변환"
   ]
  },
  {
   "cell_type": "code",
   "execution_count": 48,
   "id": "3b4de9c6",
   "metadata": {},
   "outputs": [
    {
     "name": "stdout",
     "output_type": "stream",
     "text": [
      "n: [1. 1. 1. 1. 1.]\n",
      "t: tensor([1., 1., 1., 1., 1.], dtype=torch.float64)\n"
     ]
    }
   ],
   "source": [
    "n = np.ones(5)\n",
    "print(f\"n: {n}\")\n",
    "t = torch.from_numpy(n)\n",
    "print(f\"t: {t}\")"
   ]
  },
  {
   "cell_type": "code",
   "execution_count": null,
   "id": "95f9a390",
   "metadata": {},
   "outputs": [
    {
     "name": "stdout",
     "output_type": "stream",
     "text": [
      "t: tensor([2., 2., 2., 2., 2.], dtype=torch.float64)\n",
      "n: [2. 2. 2. 2. 2.]\n"
     ]
    }
   ],
   "source": [
    "#값이 변화되더라도 텐서의 값이 유지(Deep copy)\n",
    "np.add(n, 1, out=n)\n",
    "print(f\"t: {t}\")\n",
    "print(f\"n: {n}\")"
   ]
  }
 ],
 "metadata": {
  "kernelspec": {
   "display_name": "Python 3",
   "language": "python",
   "name": "python3"
  },
  "language_info": {
   "codemirror_mode": {
    "name": "ipython",
    "version": 3
   },
   "file_extension": ".py",
   "mimetype": "text/x-python",
   "name": "python",
   "nbconvert_exporter": "python",
   "pygments_lexer": "ipython3",
   "version": "3.10.12"
  }
 },
 "nbformat": 4,
 "nbformat_minor": 5
}
